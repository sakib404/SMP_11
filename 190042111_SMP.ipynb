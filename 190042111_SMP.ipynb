{
  "nbformat": 4,
  "nbformat_minor": 0,
  "metadata": {
    "colab": {
      "provenance": []
    },
    "kernelspec": {
      "name": "python3",
      "display_name": "Python 3"
    },
    "language_info": {
      "name": "python"
    }
  },
  "cells": [
    {
      "cell_type": "code",
      "source": [
        "import pandas as pd\n",
        "import seaborn as sns\n",
        "import matplotlib.pyplot as plt\n",
        "from statsmodels.graphics.gofplots import qqplot\n",
        "from statsmodels.stats.outliers_influence import variance_inflation_factor\n",
        "from sklearn.linear_model import HuberRegressor\n",
        "from sklearn.linear_model import LinearRegression\n",
        "from sklearn.decomposition import PCA\n",
        "\n",
        "data_url = \"/content/dataset-7dd735871fec70d4a93837a26503470804b7d7e4.csv\"\n",
        "df = pd.read_csv(data_url)\n",
        "\n",
        "df.head()"
      ],
      "metadata": {
        "id": "C0ImjL792cZY"
      },
      "execution_count": null,
      "outputs": []
    },
    {
      "cell_type": "code",
      "source": [
        "# Box plot\n",
        "plt.figure(figsize=(10, 6))\n",
        "sns.boxplot(x='WarningBlocker', y='CBO', data=df)\n",
        "plt.title('Box Plot')\n",
        "plt.show()"
      ],
      "metadata": {
        "id": "W_p6R0Om6h42"
      },
      "execution_count": null,
      "outputs": []
    },
    {
      "cell_type": "code",
      "source": [
        "# Bar chart\n",
        "plt.figure(figsize=(10, 6))\n",
        "sns.barplot(x='WarningCritical', y='CBO', data=df)\n",
        "plt.title('Bar Chart')\n",
        "plt.show()"
      ],
      "metadata": {
        "id": "r75ajUM06nVw"
      },
      "execution_count": null,
      "outputs": []
    },
    {
      "cell_type": "code",
      "source": [
        "df['WarningMinor'] = pd.to_datetime(df['WarningMinor'])\n",
        "\n",
        "# Control chart\n",
        "plt.figure(figsize=(12, 8))\n",
        "sns.lineplot(x='WarningMinor', y='CBO', data=df)\n",
        "plt.title('Control Chart')\n",
        "plt.show()"
      ],
      "metadata": {
        "id": "yVvXVOw86sH3"
      },
      "execution_count": null,
      "outputs": []
    },
    {
      "cell_type": "code",
      "source": [
        "# Scatter plot\n",
        "plt.figure(figsize=(10, 6))\n",
        "sns.scatterplot(x='CBO', y='DIT', data=df)\n",
        "plt.title('Scatter Plot')\n",
        "plt.show()"
      ],
      "metadata": {
        "id": "SRww6qiF8NNf"
      },
      "execution_count": null,
      "outputs": []
    },
    {
      "cell_type": "code",
      "source": [
        "correlation_matrix = df.corr()\n",
        "\n",
        "correlation_matrix"
      ],
      "metadata": {
        "id": "Nvf4Cuqz8QqC"
      },
      "execution_count": null,
      "outputs": []
    },
    {
      "cell_type": "code",
      "source": [
        "robust_corr_matrix = df.corr(method='spearman')\n",
        "\n",
        "robust_corr_matrix"
      ],
      "metadata": {
        "id": "WpcrQJFA8cN9"
      },
      "execution_count": null,
      "outputs": []
    },
    {
      "cell_type": "code",
      "source": [
        "X = df[['CBO']]\n",
        "y = df['DIT']\n",
        "\n",
        "model = LinearRegression()\n",
        "model.fit(X, y)\n",
        "\n",
        "print('Intercept:', model.intercept_)\n",
        "print('Coefficient:', model.coef_[0])"
      ],
      "metadata": {
        "id": "2VATSMFQ8rPE"
      },
      "execution_count": null,
      "outputs": []
    },
    {
      "cell_type": "code",
      "source": [
        "huber_model = HuberRegressor()\n",
        "huber_model.fit(X, y)\n",
        "\n",
        "print('Intercept (Robust):', huber_model.intercept_)\n",
        "print('Coefficient (Robust):', huber_model.coef_[0])"
      ],
      "metadata": {
        "id": "XW_0zncY8ztK"
      },
      "execution_count": null,
      "outputs": []
    },
    {
      "cell_type": "code",
      "source": [
        "X_multi = df[['CBO', 'NII', 'LOC']]\n",
        "multi_model = LinearRegression()\n",
        "multi_model.fit(X_multi, y)\n",
        "\n",
        "# Display the coefficients\n",
        "print('Intercept (Multivariate):', multi_model.intercept_)\n",
        "print('Coefficients (Multivariate):', multi_model.coef_)"
      ],
      "metadata": {
        "id": "qeEeIdzx83Me"
      },
      "execution_count": null,
      "outputs": []
    },
    {
      "cell_type": "code",
      "source": [
        "features = ['CBO', 'NII', 'LOC']\n",
        "\n",
        "df_std = (df[features] - df[features].mean()) / df[features].std()\n",
        "\n",
        "pca = PCA(n_components=2)\n",
        "principal_components = pca.fit_transform(df_std)\n",
        "\n",
        "pc_df = pd.DataFrame(data=principal_components, columns=['PC1', 'PC2'])\n",
        "\n",
        "# Display the first few rows\n",
        "pc_df.head()"
      ],
      "metadata": {
        "id": "YpDjQPev9D5v"
      },
      "execution_count": null,
      "outputs": []
    }
  ]
}